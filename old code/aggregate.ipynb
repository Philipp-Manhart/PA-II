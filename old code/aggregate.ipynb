{
 "cells": [
  {
   "cell_type": "code",
   "execution_count": 3,
   "id": "11a55bfb",
   "metadata": {},
   "outputs": [
    {
     "name": "stderr",
     "output_type": "stream",
     "text": [
      "/tmp/ipykernel_35364/3969353603.py:13: FutureWarning: 'M' is deprecated and will be removed in a future version, please use 'ME' instead.\n",
      "  monthly_sales = df[\"Absatzzahlen\"].resample(\"M\").sum()\n"
     ]
    }
   ],
   "source": [
    "import pandas as pd\n",
    "\n",
    "# Load the dataframe\n",
    "df = pd.read_csv(\"/home/philipp/Code/BigDataBI/ daten neu.csv\")\n",
    "\n",
    "# Convert 'DATE' column to datetime objects\n",
    "df[\"DATE\"] = pd.to_datetime(df[\"DATE\"])\n",
    "\n",
    "# Set 'DATE' column as index\n",
    "df.set_index(\"DATE\", inplace=True)\n",
    "\n",
    "# Resample to monthly frequency and sum 'Absatzzahlen'\n",
    "monthly_sales = df[\"Absatzzahlen\"].resample(\"M\").sum()\n",
    "\n",
    "\n",
    "\n",
    "monthly_sales.index = monthly_sales.index.strftime(\"%Y-%m-%d\")\n",
    "monthly_sales.to_csv(\n",
    "    \"/home/philipp/Code/BigDataBI/monatsabsatz.csv\", index_label=\"DATE\"\n",
    ")"
   ]
  }
 ],
 "metadata": {
  "kernelspec": {
   "display_name": "Python 3",
   "language": "python",
   "name": "python3"
  },
  "language_info": {
   "codemirror_mode": {
    "name": "ipython",
    "version": 3
   },
   "file_extension": ".py",
   "mimetype": "text/x-python",
   "name": "python",
   "nbconvert_exporter": "python",
   "pygments_lexer": "ipython3",
   "version": "3.13.2"
  }
 },
 "nbformat": 4,
 "nbformat_minor": 5
}
