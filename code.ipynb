{
 "cells": [
  {
   "cell_type": "code",
   "execution_count": 14,
   "id": "4875c56c",
   "metadata": {},
   "outputs": [],
   "source": [
    "# imports\n",
    "import pandas as pd\n",
    "import numpy as np\n",
    "import statsmodels.api as sm\n",
    "import matplotlib.pyplot as plt\n",
    "import seaborn as sns"
   ]
  },
  {
   "cell_type": "code",
   "execution_count": 15,
   "id": "1f4af4be",
   "metadata": {},
   "outputs": [],
   "source": [
    "# google trends\n",
    "# Keyword: \"Auto Finanzierung\"\n",
    "gt_auto_finanzierung_1 = pd.read_csv('./original_data/gt_auto_finanzierung_1.csv')\n",
    "gt_auto_finanzierung_2 = pd.read_csv('./original_data/gt_auto_finanzierung_2.csv')\n",
    "gt_auto_finanzierung_3 = pd.read_csv('./original_data/gt_auto_finanzierung_3.csv')\n",
    "# Keyword: \"Auto Leasing\"\n",
    "gt_auto_leasing_1 = pd.read_csv('./original_data/gt_auto_leasing_1.csv')\n",
    "gt_auto_leasing_2 = pd.read_csv('./original_data/gt_auto_leasing_2.csv')\n",
    "gt_auto_leasing_3 = pd.read_csv('./original_data/gt_auto_leasing_3.csv')\n",
    "# Keyword: \"BMW Finanzierung\"\n",
    "gt_bmw_finanzierung_1 = pd.read_csv('./original_data/gt_bmw_finanzierung_1.csv')\n",
    "gt_bmw_finanzierung_2 = pd.read_csv('./original_data/gt_bmw_finanzierung_2.csv')\n",
    "gt_bmw_finanzierung_3 = pd.read_csv('./original_data/gt_bmw_finanzierung_3.csv')\n",
    "# Keyword: \"BMW Leasing\"\n",
    "gt_bmw_leasing_1 = pd.read_csv('./original_data/gt_bmw_leasing_1.csv')\n",
    "gt_bmw_leasing_2 = pd.read_csv('./original_data/gt_bmw_leasing_2.csv')\n",
    "gt_bmw_leasing_3 = pd.read_csv('./original_data/gt_bmw_leasing_3.csv')\n",
    "# Keyword: \"Leasing\"\n",
    "gt_leasing_1 = pd.read_csv('./original_data/gt_leasing_1.csv')\n",
    "gt_leasing_2 = pd.read_csv('./original_data/gt_leasing_2.csv')\n",
    "gt_leasing_3 = pd.read_csv('./original_data/gt_leasing_3.csv')\n",
    "# Keyword: \"BMW\"\n",
    "gt_bmw_1 = pd.read_csv('./original_data/gt_bmw_1.csv')\n",
    "gt_bmw_2 = pd.read_csv('./original_data/gt_bmw_2.csv')\n",
    "gt_bmw_3 = pd.read_csv('./original_data/gt_bmw_3.csv')"
   ]
  },
  {
   "cell_type": "code",
   "execution_count": null,
   "id": "593508f5",
   "metadata": {},
   "outputs": [],
   "source": [
    "# apgi"
   ]
  },
  {
   "cell_type": "code",
   "execution_count": null,
   "id": "6bc76135",
   "metadata": {},
   "outputs": [],
   "source": [
    "# arbeitslosenzahlen"
   ]
  },
  {
   "cell_type": "code",
   "execution_count": null,
   "id": "2dc9185d",
   "metadata": {},
   "outputs": [],
   "source": [
    "# bruttoinlandsprodukt"
   ]
  },
  {
   "cell_type": "code",
   "execution_count": null,
   "id": "06a1fa8a",
   "metadata": {},
   "outputs": [],
   "source": [
    "# euribor"
   ]
  },
  {
   "cell_type": "code",
   "execution_count": null,
   "id": "5797f7b3",
   "metadata": {},
   "outputs": [],
   "source": [
    "# gebrauchtwagenpreiseindex"
   ]
  },
  {
   "cell_type": "code",
   "execution_count": null,
   "id": "657281c2",
   "metadata": {},
   "outputs": [],
   "source": [
    "# ifo beschäftigungsbarometer"
   ]
  },
  {
   "cell_type": "code",
   "execution_count": null,
   "id": "3cd1d515",
   "metadata": {},
   "outputs": [],
   "source": [
    "# ifo geschäftsklima"
   ]
  },
  {
   "cell_type": "code",
   "execution_count": null,
   "id": "2aa8196b",
   "metadata": {},
   "outputs": [],
   "source": [
    "# bmw absatzzahlen"
   ]
  }
 ],
 "metadata": {
  "kernelspec": {
   "display_name": "Python 3",
   "language": "python",
   "name": "python3"
  },
  "language_info": {
   "codemirror_mode": {
    "name": "ipython",
    "version": 3
   },
   "file_extension": ".py",
   "mimetype": "text/x-python",
   "name": "python",
   "nbconvert_exporter": "python",
   "pygments_lexer": "ipython3",
   "version": "3.13.2"
  }
 },
 "nbformat": 4,
 "nbformat_minor": 5
}
