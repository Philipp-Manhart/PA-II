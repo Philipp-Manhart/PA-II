{
 "cells": [
  {
   "cell_type": "code",
   "execution_count": null,
   "id": "f4dc2ba1",
   "metadata": {
    "vscode": {
     "languageId": "r"
    }
   },
   "outputs": [],
   "source": [
    "import pandas as pd\n",
    "\n",
    "# dataframes\n",
    "arbeitslosenquote = pd.read_csv(\"./Data/monthly/arbeitslosenquote monthly.csv\")\n",
    "\n",
    "euribor = pd.read_csv(\"./Data/monthly/euribor 3M monthly.csv\")\n",
    "\n",
    "gebrauchtwagenindex = pd.read_csv(\"./Data/monthly/gebrauchtwagenindex monthly.csv\")\n",
    "\n",
    "googletrends = pd.read_csv(\"./Data/monthly/googletrends monthly.csv\")\n",
    "\n",
    "ifo = pd.read_csv(\"./Data/monthly/ifo geschäftsklima monthly.csv\")\n",
    "\n",
    "verbraucherpreisindex = pd.read_csv(\"./Data/monthly/verbraucherpreisindex monthly.csv\")\n",
    "\n",
    "wetter = pd.read_csv(\"./Data/monthly/wetter monthly.csv\")\n",
    "\n",
    "# full outer join on the DATE column\n",
    "merged = pd.merge(googletrends, gebrauchtwagenindex, euribor, ifo, verbraucherpreisindex, arbeitslosenquote, wetter, on=\"DATE\", how=\"outer\")\n",
    "\n",
    "merged.to_csv(\"./Data/monthly/merged data.csv\", index=False)\n"
   ]
  }
 ],
 "metadata": {
  "kernelspec": {
   "display_name": "Python 3",
   "language": "python",
   "name": "python3"
  },
  "language_info": {
   "codemirror_mode": {
    "name": "ipython",
    "version": 3
   },
   "file_extension": ".py",
   "mimetype": "text/x-python",
   "name": "python",
   "nbconvert_exporter": "python",
   "pygments_lexer": "ipython3",
   "version": "3.13.2"
  }
 },
 "nbformat": 4,
 "nbformat_minor": 5
}
