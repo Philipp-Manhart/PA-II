{
 "cells": [
  {
   "cell_type": "code",
   "execution_count": 6,
   "id": "a1b60ee4",
   "metadata": {},
   "outputs": [
    {
     "name": "stdout",
     "output_type": "stream",
     "text": [
      "Cleaned columns: ['Week of Book Date', 'year', 'Absatzzahlen']\n"
     ]
    }
   ],
   "source": [
    "import pandas as pd\n",
    "\n",
    "# Load the CSV file\n",
    "df = pd.read_csv(\"Daten.csv\", sep=\",\")\n",
    "\n",
    "# Clean column names (remove leading/trailing whitespace)\n",
    "df.columns = df.columns.str.strip()\n",
    "\n",
    "# Print cleaned column names to verify\n",
    "print(\"Cleaned columns:\", df.columns.tolist())\n",
    "\n",
    "# Ensure necessary columns exist\n",
    "required_columns = {\"year\", \"Week of Book Date\", \"Absatzzahlen\"}\n",
    "if not required_columns.issubset(df.columns):\n",
    "    missing = required_columns - set(df.columns)\n",
    "    raise ValueError(f\"Missing required columns: {missing}\")\n",
    "\n",
    "# Convert week and year to a datetime object using Monday as the first day\n",
    "try:\n",
    "    df[\"DATE\"] = pd.to_datetime(\n",
    "        df[\"year\"].astype(str) + df[\"Week of Book Date\"].astype(str) + \"1\",\n",
    "        format=\"%Y%W%w\",\n",
    "    )\n",
    "    df[\"DATE\"] = df[\"DATE\"].dt.strftime(\"%Y-%m-%d\")\n",
    "except Exception as e:\n",
    "    raise ValueError(f\"Date conversion failed: {e}\")\n",
    "\n",
    "# Select and rename columns for the final output\n",
    "df_transformed = df[[\"DATE\", \"Absatzzahlen\"]]\n",
    "\n",
    "df_transformed\n",
    "df_transformed.to_csv(\" daten neu.csv\", index=False)\n",
    "\n",
    "# Optional: Save to CSV\n",
    "# df_transformed.to_csv(\"Daten_transformed.csv\", index=False)"
   ]
  }
 ],
 "metadata": {
  "kernelspec": {
   "display_name": "Python 3",
   "language": "python",
   "name": "python3"
  },
  "language_info": {
   "codemirror_mode": {
    "name": "ipython",
    "version": 3
   },
   "file_extension": ".py",
   "mimetype": "text/x-python",
   "name": "python",
   "nbconvert_exporter": "python",
   "pygments_lexer": "ipython3",
   "version": "3.13.2"
  }
 },
 "nbformat": 4,
 "nbformat_minor": 5
}
