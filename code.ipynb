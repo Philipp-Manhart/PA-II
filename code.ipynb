{
 "cells": [
  {
   "cell_type": "code",
   "execution_count": 1,
   "id": "4875c56c",
   "metadata": {},
   "outputs": [],
   "source": [
    "# imports\n",
    "import pandas as pd\n",
    "import numpy as np\n",
    "import statsmodels.api as sm\n",
    "import matplotlib.pyplot as plt\n",
    "import seaborn as sns"
   ]
  },
  {
   "cell_type": "code",
   "execution_count": 2,
   "id": "1f4af4be",
   "metadata": {},
   "outputs": [],
   "source": [
    "# google trends\n",
    "# Keyword: \"Auto Finanzierung\"\n",
    "gt_auto_finanzierung_1 = pd.read_csv('./original_data/gt_auto_finanzierung_1.csv')\n",
    "gt_auto_finanzierung_2 = pd.read_csv('./original_data/gt_auto_finanzierung_2.csv')\n",
    "gt_auto_finanzierung_3 = pd.read_csv('./original_data/gt_auto_finanzierung_3.csv')\n",
    "# Keyword: \"Auto Leasing\"\n",
    "gt_auto_leasing_1 = pd.read_csv('./original_data/gt_auto_leasing_1.csv')\n",
    "gt_auto_leasing_2 = pd.read_csv('./original_data/gt_auto_leasing_2.csv')\n",
    "gt_auto_leasing_3 = pd.read_csv('./original_data/gt_auto_leasing_3.csv')\n",
    "# Keyword: \"BMW Finanzierung\"\n",
    "gt_bmw_finanzierung_1 = pd.read_csv('./original_data/gt_bmw_finanzierung_1.csv')\n",
    "gt_bmw_finanzierung_2 = pd.read_csv('./original_data/gt_bmw_finanzierung_2.csv')\n",
    "gt_bmw_finanzierung_3 = pd.read_csv('./original_data/gt_bmw_finanzierung_3.csv')\n",
    "# Keyword: \"BMW Leasing\"\n",
    "gt_bmw_leasing_1 = pd.read_csv('./original_data/gt_bmw_leasing_1.csv')\n",
    "gt_bmw_leasing_2 = pd.read_csv('./original_data/gt_bmw_leasing_2.csv')\n",
    "gt_bmw_leasing_3 = pd.read_csv('./original_data/gt_bmw_leasing_3.csv')\n",
    "# Keyword: \"Leasing\"\n",
    "gt_leasing_1 = pd.read_csv('./original_data/gt_leasing_1.csv')\n",
    "gt_leasing_2 = pd.read_csv('./original_data/gt_leasing_2.csv')\n",
    "gt_leasing_3 = pd.read_csv('./original_data/gt_leasing_3.csv')\n",
    "# Keyword: \"BMW\"\n",
    "gt_bmw_1 = pd.read_csv('./original_data/gt_bmw_1.csv')\n",
    "gt_bmw_2 = pd.read_csv('./original_data/gt_bmw_2.csv')\n",
    "gt_bmw_3 = pd.read_csv('./original_data/gt_bmw_3.csv')"
   ]
  },
  {
   "cell_type": "code",
   "execution_count": 3,
   "id": "593508f5",
   "metadata": {},
   "outputs": [],
   "source": [
    "# apgi\n",
    "apgi = pd.read_csv('./original_data/apgi.csv')\n",
    "\n",
    "apgi['DATE'] = pd.to_datetime(apgi['DATE'], format='%Y-%m') + pd.offsets.MonthEnd(0)\n",
    "apgi['DATE'] = apgi['DATE'].dt.strftime('%Y-%m-%d')"
   ]
  },
  {
   "cell_type": "code",
   "execution_count": 7,
   "id": "6bc76135",
   "metadata": {},
   "outputs": [
    {
     "data": {
      "application/vnd.microsoft.datawrangler.viewer.v0+json": {
       "columns": [
        {
         "name": "index",
         "rawType": "int64",
         "type": "integer"
        },
        {
         "name": "DATE",
         "rawType": "datetime64[ns]",
         "type": "datetime"
        },
        {
         "name": "Bestand Arbeitslose",
         "rawType": "int64",
         "type": "integer"
        },
        {
         "name": "Zugang Arbeitslose",
         "rawType": "int64",
         "type": "integer"
        },
        {
         "name": "Abgang Arbeitslose",
         "rawType": "int64",
         "type": "integer"
        },
        {
         "name": "Arbeitslosenquote",
         "rawType": "float64",
         "type": "float"
        }
       ],
       "conversionMethod": "pd.DataFrame",
       "ref": "bb678f21-d608-4faa-a03e-ad13a58faff4",
       "rows": [
        [
         "0",
         "2025-04-30 00:00:00",
         "2931550",
         "562010",
         "597530",
         "6.3"
        ],
        [
         "1",
         "2025-03-31 00:00:00",
         "2967080",
         "577380",
         "599530",
         "6.4"
        ],
        [
         "2",
         "2025-02-28 00:00:00",
         "2989220",
         "585600",
         "589050",
         "6.4"
        ],
        [
         "3",
         "2025-01-31 00:00:00",
         "2992660",
         "625980",
         "439960",
         "6.4"
        ],
        [
         "4",
         "2024-12-31 00:00:00",
         "2806630",
         "562260",
         "529670",
         "6.0"
        ],
        [
         "5",
         "2024-11-30 00:00:00",
         "2774030",
         "554830",
         "571350",
         "5.9"
        ],
        [
         "6",
         "2024-10-31 00:00:00",
         "2790530",
         "614150",
         "629990",
         "6.0"
        ],
        [
         "7",
         "2024-09-30 00:00:00",
         "2806360",
         "536900",
         "602450",
         "6.0"
        ],
        [
         "8",
         "2024-08-31 00:00:00",
         "2871910",
         "591370",
         "528180",
         "6.1"
        ],
        [
         "9",
         "2024-07-31 00:00:00",
         "2808720",
         "639110",
         "556970",
         "6.0"
        ],
        [
         "10",
         "2024-06-30 00:00:00",
         "2726570",
         "501830",
         "497800",
         "5.8"
        ],
        [
         "11",
         "2024-05-31 00:00:00",
         "2722550",
         "530150",
         "557170",
         "5.8"
        ],
        [
         "12",
         "2024-04-30 00:00:00",
         "2749580",
         "594500",
         "614220",
         "6.0"
        ],
        [
         "13",
         "2024-03-31 00:00:00",
         "2769280",
         "544550",
         "589090",
         "6.0"
        ],
        [
         "14",
         "2024-02-29 00:00:00",
         "2813810",
         "579240",
         "570810",
         "6.1"
        ],
        [
         "15",
         "2024-01-31 00:00:00",
         "2805380",
         "633170",
         "464430",
         "6.1"
        ],
        [
         "16",
         "2023-12-31 00:00:00",
         "2636730",
         "557170",
         "526200",
         "5.7"
        ],
        [
         "17",
         "2023-11-30 00:00:00",
         "2605730",
         "552180",
         "553570",
         "5.6"
        ],
        [
         "18",
         "2023-10-31 00:00:00",
         "2607120",
         "547140",
         "567130",
         "5.7"
        ],
        [
         "19",
         "2023-09-30 00:00:00",
         "2627100",
         "519570",
         "588300",
         "5.7"
        ],
        [
         "20",
         "2023-08-31 00:00:00",
         "2695830",
         "608750",
         "530110",
         "5.8"
        ],
        [
         "21",
         "2023-07-31 00:00:00",
         "2617190",
         "557300",
         "495040",
         "5.7"
        ],
        [
         "22",
         "2023-06-30 00:00:00",
         "2554980",
         "512780",
         "501520",
         "5.5"
        ],
        [
         "23",
         "2023-05-31 00:00:00",
         "2543740",
         "480070",
         "521980",
         "5.5"
        ],
        [
         "24",
         "2023-04-30 00:00:00",
         "2585680",
         "554070",
         "562160",
         "5.7"
        ],
        [
         "25",
         "2023-03-31 00:00:00",
         "2593770",
         "511820",
         "538220",
         "5.7"
        ],
        [
         "26",
         "2023-02-28 00:00:00",
         "2620170",
         "578700",
         "574510",
         "5.7"
        ],
        [
         "27",
         "2023-01-31 00:00:00",
         "2616020",
         "570110",
         "407920",
         "5.7"
        ],
        [
         "28",
         "2022-12-31 00:00:00",
         "2453880",
         "524930",
         "505060",
         "5.4"
        ],
        [
         "29",
         "2022-11-30 00:00:00",
         "2434020",
         "531660",
         "539980",
         "5.3"
        ],
        [
         "30",
         "2022-10-31 00:00:00",
         "2442350",
         "544180",
         "587590",
         "5.3"
        ],
        [
         "31",
         "2022-09-30 00:00:00",
         "2485740",
         "544760",
         "606360",
         "5.4"
        ],
        [
         "32",
         "2022-08-31 00:00:00",
         "2547340",
         "579820",
         "502710",
         "5.6"
        ],
        [
         "33",
         "2022-07-31 00:00:00",
         "2470240",
         "577240",
         "469890",
         "5.4"
        ],
        [
         "34",
         "2022-06-30 00:00:00",
         "2362890",
         "565700",
         "462460",
         "5.2"
        ],
        [
         "35",
         "2022-05-31 00:00:00",
         "2259650",
         "435200",
         "484760",
         "4.9"
        ],
        [
         "36",
         "2022-04-30 00:00:00",
         "2309210",
         "470250",
         "523200",
         "5.0"
        ],
        [
         "37",
         "2022-03-31 00:00:00",
         "2362160",
         "437160",
         "502950",
         "5.1"
        ],
        [
         "38",
         "2022-02-28 00:00:00",
         "2427960",
         "498770",
         "532980",
         "5.3"
        ],
        [
         "39",
         "2022-01-31 00:00:00",
         "2462160",
         "531340",
         "398670",
         "5.4"
        ],
        [
         "40",
         "2021-12-31 00:00:00",
         "2329530",
         "500800",
         "488350",
         "5.1"
        ],
        [
         "41",
         "2021-11-30 00:00:00",
         "2317070",
         "466150",
         "526000",
         "5.1"
        ],
        [
         "42",
         "2021-10-31 00:00:00",
         "2376930",
         "476910",
         "564780",
         "5.2"
        ],
        [
         "43",
         "2021-09-30 00:00:00",
         "2464790",
         "498150",
         "611830",
         "5.4"
        ],
        [
         "44",
         "2021-08-31 00:00:00",
         "2578470",
         "523680",
         "535520",
         "5.6"
        ],
        [
         "45",
         "2021-07-31 00:00:00",
         "2590310",
         "489250",
         "512730",
         "5.6"
        ],
        [
         "46",
         "2021-06-30 00:00:00",
         "2613830",
         "432020",
         "505400",
         "5.7"
        ],
        [
         "47",
         "2021-05-31 00:00:00",
         "2687190",
         "436860",
         "520910",
         "5.9"
        ],
        [
         "48",
         "2021-04-30 00:00:00",
         "2771230",
         "497980",
         "554210",
         "6.0"
        ],
        [
         "49",
         "2021-03-31 00:00:00",
         "2827450",
         "430230",
         "507200",
         "6.2"
        ]
       ],
       "shape": {
        "columns": 5,
        "rows": 216
       }
      },
      "text/html": [
       "<div>\n",
       "<style scoped>\n",
       "    .dataframe tbody tr th:only-of-type {\n",
       "        vertical-align: middle;\n",
       "    }\n",
       "\n",
       "    .dataframe tbody tr th {\n",
       "        vertical-align: top;\n",
       "    }\n",
       "\n",
       "    .dataframe thead th {\n",
       "        text-align: right;\n",
       "    }\n",
       "</style>\n",
       "<table border=\"1\" class=\"dataframe\">\n",
       "  <thead>\n",
       "    <tr style=\"text-align: right;\">\n",
       "      <th></th>\n",
       "      <th>DATE</th>\n",
       "      <th>Bestand Arbeitslose</th>\n",
       "      <th>Zugang Arbeitslose</th>\n",
       "      <th>Abgang Arbeitslose</th>\n",
       "      <th>Arbeitslosenquote</th>\n",
       "    </tr>\n",
       "  </thead>\n",
       "  <tbody>\n",
       "    <tr>\n",
       "      <th>0</th>\n",
       "      <td>2025-04-30</td>\n",
       "      <td>2931550</td>\n",
       "      <td>562010</td>\n",
       "      <td>597530</td>\n",
       "      <td>6.3</td>\n",
       "    </tr>\n",
       "    <tr>\n",
       "      <th>1</th>\n",
       "      <td>2025-03-31</td>\n",
       "      <td>2967080</td>\n",
       "      <td>577380</td>\n",
       "      <td>599530</td>\n",
       "      <td>6.4</td>\n",
       "    </tr>\n",
       "    <tr>\n",
       "      <th>2</th>\n",
       "      <td>2025-02-28</td>\n",
       "      <td>2989220</td>\n",
       "      <td>585600</td>\n",
       "      <td>589050</td>\n",
       "      <td>6.4</td>\n",
       "    </tr>\n",
       "    <tr>\n",
       "      <th>3</th>\n",
       "      <td>2025-01-31</td>\n",
       "      <td>2992660</td>\n",
       "      <td>625980</td>\n",
       "      <td>439960</td>\n",
       "      <td>6.4</td>\n",
       "    </tr>\n",
       "    <tr>\n",
       "      <th>4</th>\n",
       "      <td>2024-12-31</td>\n",
       "      <td>2806630</td>\n",
       "      <td>562260</td>\n",
       "      <td>529670</td>\n",
       "      <td>6.0</td>\n",
       "    </tr>\n",
       "    <tr>\n",
       "      <th>...</th>\n",
       "      <td>...</td>\n",
       "      <td>...</td>\n",
       "      <td>...</td>\n",
       "      <td>...</td>\n",
       "      <td>...</td>\n",
       "    </tr>\n",
       "    <tr>\n",
       "      <th>211</th>\n",
       "      <td>2007-09-30</td>\n",
       "      <td>3530640</td>\n",
       "      <td>673130</td>\n",
       "      <td>834200</td>\n",
       "      <td>8.4</td>\n",
       "    </tr>\n",
       "    <tr>\n",
       "      <th>212</th>\n",
       "      <td>2007-08-31</td>\n",
       "      <td>3691890</td>\n",
       "      <td>671520</td>\n",
       "      <td>680410</td>\n",
       "      <td>8.8</td>\n",
       "    </tr>\n",
       "    <tr>\n",
       "      <th>213</th>\n",
       "      <td>2007-07-31</td>\n",
       "      <td>3701000</td>\n",
       "      <td>775270</td>\n",
       "      <td>746800</td>\n",
       "      <td>8.8</td>\n",
       "    </tr>\n",
       "    <tr>\n",
       "      <th>214</th>\n",
       "      <td>2007-06-30</td>\n",
       "      <td>3672930</td>\n",
       "      <td>578000</td>\n",
       "      <td>700850</td>\n",
       "      <td>8.8</td>\n",
       "    </tr>\n",
       "    <tr>\n",
       "      <th>215</th>\n",
       "      <td>2007-05-31</td>\n",
       "      <td>3795940</td>\n",
       "      <td>572720</td>\n",
       "      <td>734890</td>\n",
       "      <td>9.1</td>\n",
       "    </tr>\n",
       "  </tbody>\n",
       "</table>\n",
       "<p>216 rows × 5 columns</p>\n",
       "</div>"
      ],
      "text/plain": [
       "          DATE  Bestand Arbeitslose  Zugang Arbeitslose  Abgang Arbeitslose  \\\n",
       "0   2025-04-30              2931550              562010              597530   \n",
       "1   2025-03-31              2967080              577380              599530   \n",
       "2   2025-02-28              2989220              585600              589050   \n",
       "3   2025-01-31              2992660              625980              439960   \n",
       "4   2024-12-31              2806630              562260              529670   \n",
       "..         ...                  ...                 ...                 ...   \n",
       "211 2007-09-30              3530640              673130              834200   \n",
       "212 2007-08-31              3691890              671520              680410   \n",
       "213 2007-07-31              3701000              775270              746800   \n",
       "214 2007-06-30              3672930              578000              700850   \n",
       "215 2007-05-31              3795940              572720              734890   \n",
       "\n",
       "     Arbeitslosenquote  \n",
       "0                  6.3  \n",
       "1                  6.4  \n",
       "2                  6.4  \n",
       "3                  6.4  \n",
       "4                  6.0  \n",
       "..                 ...  \n",
       "211                8.4  \n",
       "212                8.8  \n",
       "213                8.8  \n",
       "214                8.8  \n",
       "215                9.1  \n",
       "\n",
       "[216 rows x 5 columns]"
      ]
     },
     "execution_count": 7,
     "metadata": {},
     "output_type": "execute_result"
    }
   ],
   "source": [
    "# arbeitslosenzahlen\n",
    "arbeitslosenquote = pd.read_csv(\"./original_data/arbeitslosenzahlen.csv\", sep=\";\", decimal=\",\")\n",
    "\n",
    "# Clean integer columns (remove dots, convert to int)\n",
    "for col in [\"Bestand Arbeitslose\", \"Zugang Arbeitslose\", \"Abgang Arbeitslose\"]:\n",
    "  arbeitslosenquote[col] = arbeitslosenquote[col].astype(str).str.replace(\".\", \"\", regex=False).replace(\"\", \"0\").astype(int)\n",
    "\n",
    "# Clean float column (replace comma with dot, convert to float)\n",
    "arbeitslosenquote[\"Arbeitslosenquote\"] = arbeitslosenquote[\"Arbeitslosenquote\"].astype(str).str.replace(\",\", \".\", regex=False).replace(\"\", \"0\").astype(float)\n",
    "\n",
    "# Convert 'Berichtsmonat' to datetime\n",
    "arbeitslosenquote[\"DATE\"] = arbeitslosenquote[\"Berichtsmonat\"].astype(str).apply(\n",
    "  lambda x: pd.to_datetime(\n",
    "    f\"{x.split(' ')[1]}-{month_map.get(x.split(' ')[0], '01')}-01\", errors=\"coerce\"\n",
    "  )\n",
    ")\n",
    "arbeitslosenquote[\"DATE\"] = arbeitslosenquote[\"DATE\"] + pd.offsets.MonthEnd(0)\n",
    "\n",
    "# Reorder columns\n",
    "arbeitslosenquote = arbeitslosenquote.drop(columns=[\"Berichtsmonat\"])\n",
    "arbeitslosenquote = arbeitslosenquote[[\"DATE\"] + [col for col in arbeitslosenquote.columns if col != \"DATE\"]]\n",
    "\n",
    "arbeitslosenquote\n"
   ]
  },
  {
   "cell_type": "code",
   "execution_count": null,
   "id": "06a1fa8a",
   "metadata": {},
   "outputs": [
    {
     "data": {
      "application/vnd.microsoft.datawrangler.viewer.v0+json": {
       "columns": [
        {
         "name": "index",
         "rawType": "int64",
         "type": "integer"
        },
        {
         "name": "DATE",
         "rawType": "object",
         "type": "string"
        },
        {
         "name": "Euribor 12M",
         "rawType": "float64",
         "type": "float"
        }
       ],
       "conversionMethod": "pd.DataFrame",
       "ref": "5541e4aa-b7ef-4177-87cf-3eb501680e4b",
       "rows": [
        [
         "0",
         "1994-01-31",
         "6.34"
        ],
        [
         "1",
         "1994-02-28",
         "6.42"
        ],
        [
         "2",
         "1994-03-31",
         "6.55"
        ],
        [
         "3",
         "1994-04-30",
         "6.46"
        ],
        [
         "4",
         "1994-05-31",
         "6.25"
        ],
        [
         "5",
         "1994-06-30",
         "6.62"
        ],
        [
         "6",
         "1994-07-31",
         "6.77"
        ],
        [
         "7",
         "1994-08-31",
         "7.08"
        ],
        [
         "8",
         "1994-09-30",
         "7.31"
        ],
        [
         "9",
         "1994-10-31",
         "7.3"
        ],
        [
         "10",
         "1994-11-30",
         "7.19"
        ],
        [
         "11",
         "1994-12-31",
         "7.51"
        ],
        [
         "12",
         "1995-01-31",
         "7.66"
        ],
        [
         "13",
         "1995-02-28",
         "7.5"
        ],
        [
         "14",
         "1995-03-31",
         "8.02"
        ],
        [
         "15",
         "1995-04-30",
         "7.63"
        ],
        [
         "16",
         "1995-05-31",
         "7.25"
        ],
        [
         "17",
         "1995-06-30",
         "7.24"
        ],
        [
         "18",
         "1995-07-31",
         "7.16"
        ],
        [
         "19",
         "1995-08-31",
         "6.83"
        ],
        [
         "20",
         "1995-09-30",
         "6.59"
        ],
        [
         "21",
         "1995-10-31",
         "6.76"
        ],
        [
         "22",
         "1995-11-30",
         "6.43"
        ],
        [
         "23",
         "1995-12-31",
         "6.21"
        ],
        [
         "24",
         "1996-01-31",
         "5.69"
        ],
        [
         "25",
         "1996-02-29",
         "5.56"
        ],
        [
         "26",
         "1996-03-31",
         "5.55"
        ],
        [
         "27",
         "1996-04-30",
         "5.32"
        ],
        [
         "28",
         "1996-05-31",
         "5.07"
        ],
        [
         "29",
         "1996-06-30",
         "5.19"
        ],
        [
         "30",
         "1996-07-31",
         "5.18"
        ],
        [
         "31",
         "1996-08-31",
         "5.16"
        ],
        [
         "32",
         "1996-09-30",
         "4.96"
        ],
        [
         "33",
         "1996-10-31",
         "4.67"
        ],
        [
         "34",
         "1996-11-30",
         "4.54"
        ],
        [
         "35",
         "1996-12-31",
         "4.39"
        ],
        [
         "36",
         "1997-01-31",
         "4.25"
        ],
        [
         "37",
         "1997-02-28",
         "4.32"
        ],
        [
         "38",
         "1997-03-31",
         "4.55"
        ],
        [
         "39",
         "1997-04-30",
         "4.47"
        ],
        [
         "40",
         "1997-05-31",
         "4.36"
        ],
        [
         "41",
         "1997-06-30",
         "4.33"
        ],
        [
         "42",
         "1997-07-31",
         "4.32"
        ],
        [
         "43",
         "1997-08-31",
         "4.49"
        ],
        [
         "44",
         "1997-09-30",
         "4.42"
        ],
        [
         "45",
         "1997-10-31",
         "4.55"
        ],
        [
         "46",
         "1997-11-30",
         "4.56"
        ],
        [
         "47",
         "1997-12-31",
         "4.41"
        ],
        [
         "48",
         "1998-01-31",
         "4.22"
        ],
        [
         "49",
         "1998-02-28",
         "4.17"
        ]
       ],
       "shape": {
        "columns": 2,
        "rows": 376
       }
      },
      "text/html": [
       "<div>\n",
       "<style scoped>\n",
       "    .dataframe tbody tr th:only-of-type {\n",
       "        vertical-align: middle;\n",
       "    }\n",
       "\n",
       "    .dataframe tbody tr th {\n",
       "        vertical-align: top;\n",
       "    }\n",
       "\n",
       "    .dataframe thead th {\n",
       "        text-align: right;\n",
       "    }\n",
       "</style>\n",
       "<table border=\"1\" class=\"dataframe\">\n",
       "  <thead>\n",
       "    <tr style=\"text-align: right;\">\n",
       "      <th></th>\n",
       "      <th>DATE</th>\n",
       "      <th>Euribor 12M</th>\n",
       "    </tr>\n",
       "  </thead>\n",
       "  <tbody>\n",
       "    <tr>\n",
       "      <th>0</th>\n",
       "      <td>1994-01-31</td>\n",
       "      <td>6.3400</td>\n",
       "    </tr>\n",
       "    <tr>\n",
       "      <th>1</th>\n",
       "      <td>1994-02-28</td>\n",
       "      <td>6.4200</td>\n",
       "    </tr>\n",
       "    <tr>\n",
       "      <th>2</th>\n",
       "      <td>1994-03-31</td>\n",
       "      <td>6.5500</td>\n",
       "    </tr>\n",
       "    <tr>\n",
       "      <th>3</th>\n",
       "      <td>1994-04-30</td>\n",
       "      <td>6.4600</td>\n",
       "    </tr>\n",
       "    <tr>\n",
       "      <th>4</th>\n",
       "      <td>1994-05-31</td>\n",
       "      <td>6.2500</td>\n",
       "    </tr>\n",
       "    <tr>\n",
       "      <th>...</th>\n",
       "      <td>...</td>\n",
       "      <td>...</td>\n",
       "    </tr>\n",
       "    <tr>\n",
       "      <th>371</th>\n",
       "      <td>2024-12-31</td>\n",
       "      <td>2.4383</td>\n",
       "    </tr>\n",
       "    <tr>\n",
       "      <th>372</th>\n",
       "      <td>2025-01-31</td>\n",
       "      <td>2.5221</td>\n",
       "    </tr>\n",
       "    <tr>\n",
       "      <th>373</th>\n",
       "      <td>2025-02-28</td>\n",
       "      <td>2.4069</td>\n",
       "    </tr>\n",
       "    <tr>\n",
       "      <th>374</th>\n",
       "      <td>2025-03-31</td>\n",
       "      <td>2.3984</td>\n",
       "    </tr>\n",
       "    <tr>\n",
       "      <th>375</th>\n",
       "      <td>2025-04-30</td>\n",
       "      <td>2.1424</td>\n",
       "    </tr>\n",
       "  </tbody>\n",
       "</table>\n",
       "<p>376 rows × 2 columns</p>\n",
       "</div>"
      ],
      "text/plain": [
       "           DATE  Euribor 12M\n",
       "0    1994-01-31       6.3400\n",
       "1    1994-02-28       6.4200\n",
       "2    1994-03-31       6.5500\n",
       "3    1994-04-30       6.4600\n",
       "4    1994-05-31       6.2500\n",
       "..          ...          ...\n",
       "371  2024-12-31       2.4383\n",
       "372  2025-01-31       2.5221\n",
       "373  2025-02-28       2.4069\n",
       "374  2025-03-31       2.3984\n",
       "375  2025-04-30       2.1424\n",
       "\n",
       "[376 rows x 2 columns]"
      ]
     },
     "execution_count": 18,
     "metadata": {},
     "output_type": "execute_result"
    }
   ],
   "source": [
    "# euribor\n",
    "# 3 months\n",
    "euribor_3m = pd.read_csv('./original_data/euribor_3m.csv')\n",
    "euribor_3m = euribor_3m.drop(columns=['TIME PERIOD'])\n",
    "euribor_3m = euribor_3m.rename(\n",
    "    columns={\n",
    "        \"Euribor 3-month - Historical close, average of observations through period (FM.M.U2.EUR.RT.MM.EURIBOR3MD_.HSTA)\": \"Euribor 3M\"\n",
    "    }\n",
    ")\n",
    "# 6 months\n",
    "euribor_6m = pd.read_csv('./original_data/euribor_6m.csv')\n",
    "euribor_6m = euribor_6m.drop(columns=['TIME PERIOD'])\n",
    "euribor_6m = euribor_6m.rename(\n",
    "    columns={\n",
    "        \"Euribor 6-month - Historical close, average of observations through period (FM.M.U2.EUR.RT.MM.EURIBOR6MD_.HSTA)\": \"Euribor 6M\"\n",
    "    }\n",
    ")\n",
    "# 12 months\n",
    "euribor_12m = pd.read_csv('./original_data/euribor_12m.csv')\n",
    "euribor_12m = euribor_12m.drop(columns=['TIME PERIOD'])\n",
    "euribor_12m = euribor_12m.rename(\n",
    "    columns={\n",
    "        \"Euribor 1-year - Historical close, average of observations through period (FM.M.U2.EUR.RT.MM.EURIBOR1YD_.HSTA)\": \"Euribor 12M\"\n",
    "    }\n",
    ")\n"
   ]
  },
  {
   "cell_type": "code",
   "execution_count": 21,
   "id": "5797f7b3",
   "metadata": {},
   "outputs": [
    {
     "data": {
      "application/vnd.microsoft.datawrangler.viewer.v0+json": {
       "columns": [
        {
         "name": "index",
         "rawType": "int64",
         "type": "integer"
        },
        {
         "name": "DATE",
         "rawType": "object",
         "type": "string"
        },
        {
         "name": "Gebrauchtwagenpreisindex",
         "rawType": "float64",
         "type": "float"
        }
       ],
       "conversionMethod": "pd.DataFrame",
       "ref": "33197498-9942-4684-ba2c-b7ecee47d477",
       "rows": [
        [
         "0",
         "2015-01-31",
         "100.0"
        ],
        [
         "1",
         "2015-02-28",
         "108.4"
        ],
        [
         "2",
         "2015-03-31",
         "111.4"
        ],
        [
         "3",
         "2015-04-30",
         "112.2"
        ],
        [
         "4",
         "2015-05-31",
         "109.7"
        ],
        [
         "5",
         "2015-06-30",
         "108.8"
        ],
        [
         "6",
         "2015-07-31",
         "108.4"
        ],
        [
         "7",
         "2015-08-31",
         "109.1"
        ],
        [
         "8",
         "2015-09-30",
         "109.9"
        ],
        [
         "9",
         "2015-10-31",
         "109.8"
        ],
        [
         "10",
         "2015-11-30",
         "110.0"
        ],
        [
         "11",
         "2015-12-31",
         "108.3"
        ],
        [
         "12",
         "2016-01-31",
         "106.9"
        ],
        [
         "13",
         "2016-02-29",
         "106.0"
        ],
        [
         "14",
         "2016-03-31",
         "107.7"
        ],
        [
         "15",
         "2016-04-30",
         "108.2"
        ],
        [
         "16",
         "2016-05-31",
         "108.0"
        ],
        [
         "17",
         "2016-06-30",
         "106.8"
        ],
        [
         "18",
         "2016-07-31",
         "105.8"
        ],
        [
         "19",
         "2016-08-31",
         "104.8"
        ],
        [
         "20",
         "2016-09-30",
         "106.7"
        ],
        [
         "21",
         "2016-10-31",
         "106.6"
        ],
        [
         "22",
         "2016-11-30",
         "107.8"
        ],
        [
         "23",
         "2016-12-31",
         "107.8"
        ],
        [
         "24",
         "2017-01-31",
         "110.1"
        ],
        [
         "25",
         "2017-02-28",
         "111.3"
        ],
        [
         "26",
         "2017-03-31",
         "111.7"
        ],
        [
         "27",
         "2017-04-30",
         "110.9"
        ],
        [
         "28",
         "2017-05-31",
         "110.5"
        ],
        [
         "29",
         "2017-06-30",
         "109.5"
        ],
        [
         "30",
         "2017-07-31",
         "108.8"
        ],
        [
         "31",
         "2017-08-31",
         "108.6"
        ],
        [
         "32",
         "2017-09-30",
         "109.7"
        ],
        [
         "33",
         "2017-10-31",
         "108.9"
        ],
        [
         "34",
         "2017-11-30",
         "107.9"
        ],
        [
         "35",
         "2017-12-31",
         "109.8"
        ],
        [
         "36",
         "2018-01-31",
         "112.4"
        ],
        [
         "37",
         "2018-02-28",
         "114.1"
        ],
        [
         "38",
         "2018-03-31",
         "113.9"
        ],
        [
         "39",
         "2018-04-30",
         "113.9"
        ],
        [
         "40",
         "2018-05-31",
         "113.4"
        ],
        [
         "41",
         "2018-06-30",
         "112.2"
        ],
        [
         "42",
         "2018-07-31",
         "111.1"
        ],
        [
         "43",
         "2018-08-31",
         "110.4"
        ],
        [
         "44",
         "2018-09-30",
         "110.9"
        ],
        [
         "45",
         "2018-10-31",
         "109.5"
        ],
        [
         "46",
         "2018-11-30",
         "110.0"
        ],
        [
         "47",
         "2018-12-31",
         "111.3"
        ],
        [
         "48",
         "2019-01-31",
         "113.8"
        ],
        [
         "49",
         "2019-02-28",
         "115.2"
        ]
       ],
       "shape": {
        "columns": 2,
        "rows": 124
       }
      },
      "text/html": [
       "<div>\n",
       "<style scoped>\n",
       "    .dataframe tbody tr th:only-of-type {\n",
       "        vertical-align: middle;\n",
       "    }\n",
       "\n",
       "    .dataframe tbody tr th {\n",
       "        vertical-align: top;\n",
       "    }\n",
       "\n",
       "    .dataframe thead th {\n",
       "        text-align: right;\n",
       "    }\n",
       "</style>\n",
       "<table border=\"1\" class=\"dataframe\">\n",
       "  <thead>\n",
       "    <tr style=\"text-align: right;\">\n",
       "      <th></th>\n",
       "      <th>DATE</th>\n",
       "      <th>Gebrauchtwagenpreisindex</th>\n",
       "    </tr>\n",
       "  </thead>\n",
       "  <tbody>\n",
       "    <tr>\n",
       "      <th>0</th>\n",
       "      <td>2015-01-31</td>\n",
       "      <td>100.0</td>\n",
       "    </tr>\n",
       "    <tr>\n",
       "      <th>1</th>\n",
       "      <td>2015-02-28</td>\n",
       "      <td>108.4</td>\n",
       "    </tr>\n",
       "    <tr>\n",
       "      <th>2</th>\n",
       "      <td>2015-03-31</td>\n",
       "      <td>111.4</td>\n",
       "    </tr>\n",
       "    <tr>\n",
       "      <th>3</th>\n",
       "      <td>2015-04-30</td>\n",
       "      <td>112.2</td>\n",
       "    </tr>\n",
       "    <tr>\n",
       "      <th>4</th>\n",
       "      <td>2015-05-31</td>\n",
       "      <td>109.7</td>\n",
       "    </tr>\n",
       "    <tr>\n",
       "      <th>...</th>\n",
       "      <td>...</td>\n",
       "      <td>...</td>\n",
       "    </tr>\n",
       "    <tr>\n",
       "      <th>119</th>\n",
       "      <td>2024-12-31</td>\n",
       "      <td>137.3</td>\n",
       "    </tr>\n",
       "    <tr>\n",
       "      <th>120</th>\n",
       "      <td>2025-01-31</td>\n",
       "      <td>135.2</td>\n",
       "    </tr>\n",
       "    <tr>\n",
       "      <th>121</th>\n",
       "      <td>2025-02-28</td>\n",
       "      <td>137.0</td>\n",
       "    </tr>\n",
       "    <tr>\n",
       "      <th>122</th>\n",
       "      <td>2025-03-31</td>\n",
       "      <td>138.8</td>\n",
       "    </tr>\n",
       "    <tr>\n",
       "      <th>123</th>\n",
       "      <td>2025-04-30</td>\n",
       "      <td>141.9</td>\n",
       "    </tr>\n",
       "  </tbody>\n",
       "</table>\n",
       "<p>124 rows × 2 columns</p>\n",
       "</div>"
      ],
      "text/plain": [
       "           DATE  Gebrauchtwagenpreisindex\n",
       "0    2015-01-31                     100.0\n",
       "1    2015-02-28                     108.4\n",
       "2    2015-03-31                     111.4\n",
       "3    2015-04-30                     112.2\n",
       "4    2015-05-31                     109.7\n",
       "..          ...                       ...\n",
       "119  2024-12-31                     137.3\n",
       "120  2025-01-31                     135.2\n",
       "121  2025-02-28                     137.0\n",
       "122  2025-03-31                     138.8\n",
       "123  2025-04-30                     141.9\n",
       "\n",
       "[124 rows x 2 columns]"
      ]
     },
     "execution_count": 21,
     "metadata": {},
     "output_type": "execute_result"
    }
   ],
   "source": [
    "# gebrauchtwagenpreiseindex\n",
    "\n",
    "gebrauchtwagenpreisindex = pd.read_csv(\n",
    "    \"./original_data/gebrauchtwagenpreisindex.csv\"\n",
    ")\n",
    "gebrauchtwagenpreisindex[\"DATE\"] = pd.to_datetime(\n",
    "    gebrauchtwagenpreisindex[\"DATE\"], errors=\"coerce\"\n",
    ") + pd.offsets.MonthEnd(0)\n",
    "gebrauchtwagenpreisindex[\"DATE\"] = gebrauchtwagenpreisindex[\"DATE\"].dt.strftime(\n",
    "    \"%Y-%m-%d\"\n",
    ")\n",
    "\n",
    "gebrauchtwagenpreisindex"
   ]
  },
  {
   "cell_type": "code",
   "execution_count": 26,
   "id": "657281c2",
   "metadata": {},
   "outputs": [
    {
     "data": {
      "application/vnd.microsoft.datawrangler.viewer.v0+json": {
       "columns": [
        {
         "name": "index",
         "rawType": "int64",
         "type": "integer"
        },
        {
         "name": "DATE",
         "rawType": "object",
         "type": "string"
        },
        {
         "name": "Beschäftigungsbarometer",
         "rawType": "float64",
         "type": "float"
        },
        {
         "name": "Verarbeitendes Gewerbe",
         "rawType": "float64",
         "type": "float"
        },
        {
         "name": "Bauhauptgewerbe",
         "rawType": "float64",
         "type": "float"
        },
        {
         "name": "Handel",
         "rawType": "float64",
         "type": "float"
        },
        {
         "name": "Dienstleistungssektor",
         "rawType": "float64",
         "type": "float"
        }
       ],
       "conversionMethod": "pd.DataFrame",
       "ref": "c3798960-be01-4cfc-b22e-0497bcb220e9",
       "rows": [
        [
         "0",
         "2002-01-31",
         "91.9",
         "-23.7",
         "-45.4",
         "-21.6",
         "2.0"
        ],
        [
         "1",
         "2002-02-28",
         "92.1",
         "-21.5",
         "-37.2",
         "-22.9",
         "1.5"
        ],
        [
         "2",
         "2002-03-31",
         "92.5",
         "-22.1",
         "-34.4",
         "-19.9",
         "1.9"
        ],
        [
         "3",
         "2002-04-30",
         "92.0",
         "-19.4",
         "-38.3",
         "-22.9",
         "0.1"
        ],
        [
         "4",
         "2002-05-31",
         "92.1",
         "-20.2",
         "-36.8",
         "-22.6",
         "0.8"
        ],
        [
         "5",
         "2002-06-30",
         "90.8",
         "-19.3",
         "-35.6",
         "-25.7",
         "-3.8"
        ],
        [
         "6",
         "2002-07-31",
         "89.9",
         "-18.3",
         "-37.2",
         "-27.0",
         "-7.0"
        ],
        [
         "7",
         "2002-08-31",
         "89.5",
         "-19.5",
         "-35.9",
         "-26.8",
         "-8.3"
        ],
        [
         "8",
         "2002-09-30",
         "91.0",
         "-19.5",
         "-32.7",
         "-27.9",
         "-2.7"
        ],
        [
         "9",
         "2002-10-31",
         "88.7",
         "-21.2",
         "-36.5",
         "-28.7",
         "-9.8"
        ],
        [
         "10",
         "2002-11-30",
         "89.9",
         "-20.8",
         "-40.8",
         "-30.4",
         "-4.8"
        ],
        [
         "11",
         "2002-12-31",
         "89.2",
         "-22.4",
         "-44.8",
         "-34.7",
         "-4.8"
        ],
        [
         "12",
         "2003-01-31",
         "89.9",
         "-21.7",
         "-46.2",
         "-32.6",
         "-3.0"
        ],
        [
         "13",
         "2003-02-28",
         "88.8",
         "-19.5",
         "-40.6",
         "-32.9",
         "-8.6"
        ],
        [
         "14",
         "2003-03-31",
         "89.7",
         "-21.0",
         "-39.8",
         "-28.9",
         "-5.7"
        ],
        [
         "15",
         "2003-04-30",
         "90.7",
         "-19.2",
         "-35.6",
         "-26.9",
         "-3.8"
        ],
        [
         "16",
         "2003-05-31",
         "88.4",
         "-23.2",
         "-36.4",
         "-25.6",
         "-11.2"
        ],
        [
         "17",
         "2003-06-30",
         "89.1",
         "-22.4",
         "-36.7",
         "-25.7",
         "-8.8"
        ],
        [
         "18",
         "2003-07-31",
         "90.3",
         "-22.3",
         "-37.1",
         "-27.0",
         "-4.0"
        ],
        [
         "19",
         "2003-08-31",
         "92.1",
         "-19.6",
         "-35.3",
         "-23.8",
         "0.7"
        ],
        [
         "20",
         "2003-09-30",
         "92.3",
         "-19.7",
         "-33.8",
         "-20.9",
         "0.3"
        ],
        [
         "21",
         "2003-10-31",
         "91.7",
         "-18.5",
         "-37.6",
         "-21.7",
         "-1.8"
        ],
        [
         "22",
         "2003-11-30",
         "92.6",
         "-17.9",
         "-35.4",
         "-18.4",
         "0.2"
        ],
        [
         "23",
         "2003-12-31",
         "92.0",
         "-19.2",
         "-39.2",
         "-18.7",
         "-0.8"
        ],
        [
         "24",
         "2004-01-31",
         "91.0",
         "-17.7",
         "-33.4",
         "-16.6",
         "-6.3"
        ],
        [
         "25",
         "2004-02-29",
         "92.0",
         "-17.5",
         "-31.9",
         "-16.9",
         "-3.0"
        ],
        [
         "26",
         "2004-03-31",
         "91.1",
         "-17.8",
         "-33.0",
         "-17.9",
         "-5.8"
        ],
        [
         "27",
         "2004-04-30",
         "91.4",
         "-16.0",
         "-32.6",
         "-16.9",
         "-5.8"
        ],
        [
         "28",
         "2004-05-31",
         "93.1",
         "-15.3",
         "-35.0",
         "-14.6",
         "-0.2"
        ],
        [
         "29",
         "2004-06-30",
         "91.9",
         "-15.5",
         "-32.8",
         "-17.7",
         "-3.8"
        ],
        [
         "30",
         "2004-07-31",
         "92.2",
         "-15.3",
         "-34.1",
         "-17.0",
         "-3.0"
        ],
        [
         "31",
         "2004-08-31",
         "92.4",
         "-14.7",
         "-35.6",
         "-16.8",
         "-2.3"
        ],
        [
         "32",
         "2004-09-30",
         "92.6",
         "-12.7",
         "-38.6",
         "-14.8",
         "-2.7"
        ],
        [
         "33",
         "2004-10-31",
         "93.4",
         "-13.7",
         "-37.9",
         "-16.7",
         "1.2"
        ],
        [
         "34",
         "2004-11-30",
         "93.2",
         "-12.8",
         "-36.0",
         "-17.4",
         "0.2"
        ],
        [
         "35",
         "2004-12-31",
         "92.8",
         "-15.1",
         "-39.4",
         "-14.7",
         "-0.8"
        ],
        [
         "36",
         "2005-01-31",
         "92.6",
         "-15.6",
         "-36.1",
         "-13.6",
         "-2.0"
        ],
        [
         "37",
         "2005-02-28",
         "93.1",
         "-15.6",
         "-36.1",
         "-15.9",
         "0.6"
        ],
        [
         "38",
         "2005-03-31",
         "92.5",
         "-17.6",
         "-35.0",
         "-16.9",
         "-0.8"
        ],
        [
         "39",
         "2005-04-30",
         "91.5",
         "-17.9",
         "-30.0",
         "-14.8",
         "-5.3"
        ],
        [
         "40",
         "2005-05-31",
         "92.7",
         "-17.4",
         "-28.3",
         "-14.6",
         "-1.2"
        ],
        [
         "41",
         "2005-06-30",
         "92.1",
         "-15.6",
         "-28.8",
         "-12.7",
         "-4.8"
        ],
        [
         "42",
         "2005-07-31",
         "93.3",
         "-15.4",
         "-28.2",
         "-16.0",
         "0.6"
        ],
        [
         "43",
         "2005-08-31",
         "92.0",
         "-14.7",
         "-27.5",
         "-13.8",
         "-5.3"
        ],
        [
         "44",
         "2005-09-30",
         "93.8",
         "-12.8",
         "-22.9",
         "-11.8",
         "-0.5"
        ],
        [
         "45",
         "2005-10-31",
         "94.9",
         "-10.9",
         "-23.4",
         "-10.7",
         "2.5"
        ],
        [
         "46",
         "2005-11-30",
         "93.7",
         "-12.7",
         "-25.3",
         "-13.4",
         "-0.2"
        ],
        [
         "47",
         "2005-12-31",
         "94.8",
         "-10.9",
         "-29.1",
         "-10.7",
         "2.6"
        ],
        [
         "48",
         "2006-01-31",
         "96.5",
         "-10.5",
         "-21.3",
         "-6.6",
         "7.0"
        ],
        [
         "49",
         "2006-02-28",
         "97.8",
         "-9.6",
         "-11.4",
         "-3.9",
         "9.6"
        ]
       ],
       "shape": {
        "columns": 6,
        "rows": 280
       }
      },
      "text/html": [
       "<div>\n",
       "<style scoped>\n",
       "    .dataframe tbody tr th:only-of-type {\n",
       "        vertical-align: middle;\n",
       "    }\n",
       "\n",
       "    .dataframe tbody tr th {\n",
       "        vertical-align: top;\n",
       "    }\n",
       "\n",
       "    .dataframe thead th {\n",
       "        text-align: right;\n",
       "    }\n",
       "</style>\n",
       "<table border=\"1\" class=\"dataframe\">\n",
       "  <thead>\n",
       "    <tr style=\"text-align: right;\">\n",
       "      <th></th>\n",
       "      <th>DATE</th>\n",
       "      <th>Beschäftigungsbarometer</th>\n",
       "      <th>Verarbeitendes Gewerbe</th>\n",
       "      <th>Bauhauptgewerbe</th>\n",
       "      <th>Handel</th>\n",
       "      <th>Dienstleistungssektor</th>\n",
       "    </tr>\n",
       "  </thead>\n",
       "  <tbody>\n",
       "    <tr>\n",
       "      <th>0</th>\n",
       "      <td>2002-01-31</td>\n",
       "      <td>91.9</td>\n",
       "      <td>-23.7</td>\n",
       "      <td>-45.4</td>\n",
       "      <td>-21.6</td>\n",
       "      <td>2.0</td>\n",
       "    </tr>\n",
       "    <tr>\n",
       "      <th>1</th>\n",
       "      <td>2002-02-28</td>\n",
       "      <td>92.1</td>\n",
       "      <td>-21.5</td>\n",
       "      <td>-37.2</td>\n",
       "      <td>-22.9</td>\n",
       "      <td>1.5</td>\n",
       "    </tr>\n",
       "    <tr>\n",
       "      <th>2</th>\n",
       "      <td>2002-03-31</td>\n",
       "      <td>92.5</td>\n",
       "      <td>-22.1</td>\n",
       "      <td>-34.4</td>\n",
       "      <td>-19.9</td>\n",
       "      <td>1.9</td>\n",
       "    </tr>\n",
       "    <tr>\n",
       "      <th>3</th>\n",
       "      <td>2002-04-30</td>\n",
       "      <td>92.0</td>\n",
       "      <td>-19.4</td>\n",
       "      <td>-38.3</td>\n",
       "      <td>-22.9</td>\n",
       "      <td>0.1</td>\n",
       "    </tr>\n",
       "    <tr>\n",
       "      <th>4</th>\n",
       "      <td>2002-05-31</td>\n",
       "      <td>92.1</td>\n",
       "      <td>-20.2</td>\n",
       "      <td>-36.8</td>\n",
       "      <td>-22.6</td>\n",
       "      <td>0.8</td>\n",
       "    </tr>\n",
       "    <tr>\n",
       "      <th>...</th>\n",
       "      <td>...</td>\n",
       "      <td>...</td>\n",
       "      <td>...</td>\n",
       "      <td>...</td>\n",
       "      <td>...</td>\n",
       "      <td>...</td>\n",
       "    </tr>\n",
       "    <tr>\n",
       "      <th>275</th>\n",
       "      <td>2024-12-31</td>\n",
       "      <td>92.5</td>\n",
       "      <td>-22.4</td>\n",
       "      <td>-2.0</td>\n",
       "      <td>-16.7</td>\n",
       "      <td>-2.4</td>\n",
       "    </tr>\n",
       "    <tr>\n",
       "      <th>276</th>\n",
       "      <td>2025-01-31</td>\n",
       "      <td>93.4</td>\n",
       "      <td>-22.3</td>\n",
       "      <td>-3.7</td>\n",
       "      <td>-15.6</td>\n",
       "      <td>1.0</td>\n",
       "    </tr>\n",
       "    <tr>\n",
       "      <th>277</th>\n",
       "      <td>2025-02-28</td>\n",
       "      <td>93.0</td>\n",
       "      <td>-19.6</td>\n",
       "      <td>-4.5</td>\n",
       "      <td>-15.9</td>\n",
       "      <td>-1.4</td>\n",
       "    </tr>\n",
       "    <tr>\n",
       "      <th>278</th>\n",
       "      <td>2025-03-31</td>\n",
       "      <td>92.8</td>\n",
       "      <td>-20.8</td>\n",
       "      <td>-1.8</td>\n",
       "      <td>-12.9</td>\n",
       "      <td>-2.8</td>\n",
       "    </tr>\n",
       "    <tr>\n",
       "      <th>279</th>\n",
       "      <td>2025-04-30</td>\n",
       "      <td>93.9</td>\n",
       "      <td>-16.9</td>\n",
       "      <td>-4.0</td>\n",
       "      <td>-11.8</td>\n",
       "      <td>-0.3</td>\n",
       "    </tr>\n",
       "  </tbody>\n",
       "</table>\n",
       "<p>280 rows × 6 columns</p>\n",
       "</div>"
      ],
      "text/plain": [
       "           DATE  Beschäftigungsbarometer  Verarbeitendes Gewerbe  \\\n",
       "0    2002-01-31                     91.9                   -23.7   \n",
       "1    2002-02-28                     92.1                   -21.5   \n",
       "2    2002-03-31                     92.5                   -22.1   \n",
       "3    2002-04-30                     92.0                   -19.4   \n",
       "4    2002-05-31                     92.1                   -20.2   \n",
       "..          ...                      ...                     ...   \n",
       "275  2024-12-31                     92.5                   -22.4   \n",
       "276  2025-01-31                     93.4                   -22.3   \n",
       "277  2025-02-28                     93.0                   -19.6   \n",
       "278  2025-03-31                     92.8                   -20.8   \n",
       "279  2025-04-30                     93.9                   -16.9   \n",
       "\n",
       "     Bauhauptgewerbe  Handel  Dienstleistungssektor  \n",
       "0              -45.4   -21.6                    2.0  \n",
       "1              -37.2   -22.9                    1.5  \n",
       "2              -34.4   -19.9                    1.9  \n",
       "3              -38.3   -22.9                    0.1  \n",
       "4              -36.8   -22.6                    0.8  \n",
       "..               ...     ...                    ...  \n",
       "275             -2.0   -16.7                   -2.4  \n",
       "276             -3.7   -15.6                    1.0  \n",
       "277             -4.5   -15.9                   -1.4  \n",
       "278             -1.8   -12.9                   -2.8  \n",
       "279             -4.0   -11.8                   -0.3  \n",
       "\n",
       "[280 rows x 6 columns]"
      ]
     },
     "execution_count": 26,
     "metadata": {},
     "output_type": "execute_result"
    }
   ],
   "source": [
    "# ifo beschäftigungsbarometer\n",
    "beschaeftigungsbarometer = pd.read_csv(\n",
    "    \"./original_data/ifo_beschaeftigungsbarometer.csv\"\n",
    ")\n",
    "beschaeftigungsbarometer[\"DATE\"] = pd.to_datetime(\n",
    "    beschaeftigungsbarometer[\"DATE\"], errors=\"coerce\"\n",
    ") + pd.offsets.MonthEnd(0)\n",
    "beschaeftigungsbarometer[\"DATE\"] = beschaeftigungsbarometer[\"DATE\"].dt.strftime(\n",
    "    \"%Y-%m-%d\"\n",
    ")\n",
    "\n",
    "beschaeftigungsbarometer "
   ]
  },
  {
   "cell_type": "code",
   "execution_count": 44,
   "id": "3cd1d515",
   "metadata": {},
   "outputs": [],
   "source": [
    "# ifo geschäftsklima"
   ]
  },
  {
   "cell_type": "code",
   "execution_count": 45,
   "id": "2aa8196b",
   "metadata": {},
   "outputs": [],
   "source": [
    "# bmw absatzzahlen"
   ]
  }
 ],
 "metadata": {
  "kernelspec": {
   "display_name": "Python 3",
   "language": "python",
   "name": "python3"
  },
  "language_info": {
   "codemirror_mode": {
    "name": "ipython",
    "version": 3
   },
   "file_extension": ".py",
   "mimetype": "text/x-python",
   "name": "python",
   "nbconvert_exporter": "python",
   "pygments_lexer": "ipython3",
   "version": "3.13.2"
  }
 },
 "nbformat": 4,
 "nbformat_minor": 5
}
